{
 "cells": [
  {
   "cell_type": "markdown",
   "metadata": {},
   "source": [
    "Extraer BTC en términos de 4H"
   ]
  },
  {
   "cell_type": "code",
   "execution_count": 2,
   "metadata": {},
   "outputs": [],
   "source": [
    "import requests\n",
    "import pandas as pd\n",
    "from datetime import datetime, timedelta"
   ]
  },
  {
   "cell_type": "code",
   "execution_count": 3,
   "metadata": {},
   "outputs": [],
   "source": [
    "def fetch_binance_data_4h(symbol, start_date):\n",
    "    \"\"\"\n",
    "    Descarga datos históricos de Binance en intervalos de 4 horas.\n",
    "\n",
    "    Args:\n",
    "        symbol (str): El par de trading, por ejemplo, \"BTCUSDT\".\n",
    "        start_date (str): Fecha de inicio en formato \"YYYY-MM-DD\".\n",
    "    \n",
    "    Returns:\n",
    "        pd.DataFrame: DataFrame con los datos históricos en intervalos de 4 horas.\n",
    "    \"\"\"\n",
    "    base_url = \"https://api.binance.com/api/v3/klines\"\n",
    "    interval = \"4h\"\n",
    "    start_time = int(datetime.strptime(start_date, \"%Y-%m-%d\").timestamp() * 1000)\n",
    "    end_time = int(datetime.now().timestamp() * 1000)\n",
    "\n",
    "    data = []\n",
    "    while start_time < end_time:\n",
    "        params = {\n",
    "            \"symbol\": symbol,\n",
    "            \"interval\": interval,\n",
    "            \"startTime\": start_time,\n",
    "            \"limit\": 1000  # Máximo permitido por la API\n",
    "        }\n",
    "        response = requests.get(base_url, params=params)\n",
    "        response_data = response.json()\n",
    "        \n",
    "        # Verificar si la respuesta contiene datos\n",
    "        if not response_data:\n",
    "            break\n",
    "\n",
    "        data.extend(response_data)\n",
    "        start_time = response_data[-1][6] + 1  # Actualiza el tiempo de inicio al siguiente intervalo\n",
    "    \n",
    "    # Crear DataFrame\n",
    "    columns = [\n",
    "        \"Open Time\", \"Open\", \"High\", \"Low\", \"Close\", \"Volume\", \"Close Time\",\n",
    "        \"Quote Asset Volume\", \"Number of Trades\", \"Taker Buy Base Volume\",\n",
    "        \"Taker Buy Quote Volume\", \"Ignore\"\n",
    "    ]\n",
    "    df = pd.DataFrame(data, columns=columns)\n",
    "\n",
    "    # Convertir timestamps a fechas legibles\n",
    "    df[\"Open Time\"] = pd.to_datetime(df[\"Open Time\"], unit=\"ms\")\n",
    "    df[\"Close Time\"] = pd.to_datetime(df[\"Close Time\"], unit=\"ms\")\n",
    "\n",
    "    # Convertir columnas numéricas\n",
    "    numeric_cols = [\"Open\", \"High\", \"Low\", \"Close\", \"Volume\", \"Quote Asset Volume\", \"Taker Buy Base Volume\", \"Taker Buy Quote Volume\"]\n",
    "    df[numeric_cols] = df[numeric_cols].apply(pd.to_numeric, errors=\"coerce\")\n",
    "\n",
    "    return df"
   ]
  },
  {
   "cell_type": "code",
   "execution_count": 4,
   "metadata": {},
   "outputs": [],
   "source": [
    "# Descargar datos de BTCUSDT en intervalos de 4 horas desde el inicio\n",
    "symbol = \"BTCUSDT\"\n",
    "start_date = \"2017-08-17\"  # Fecha inicial de trading para BTC en Binance\n",
    "btc_4h_data = fetch_binance_data_4h(symbol, start_date)"
   ]
  },
  {
   "cell_type": "code",
   "execution_count": 5,
   "metadata": {},
   "outputs": [
    {
     "name": "stdout",
     "output_type": "stream",
     "text": [
      "Datos guardados en 'BTC_4H_data.csv'.\n"
     ]
    }
   ],
   "source": [
    "# Guardar en un archivo CSV\n",
    "btc_4h_data.to_csv(\"BTC_4H_data.csv\", index=False)\n",
    "print(\"Datos guardados en 'BTC_4H_data.csv'.\")"
   ]
  }
 ],
 "metadata": {
  "kernelspec": {
   "display_name": "Python 3",
   "language": "python",
   "name": "python3"
  },
  "language_info": {
   "codemirror_mode": {
    "name": "ipython",
    "version": 3
   },
   "file_extension": ".py",
   "mimetype": "text/x-python",
   "name": "python",
   "nbconvert_exporter": "python",
   "pygments_lexer": "ipython3",
   "version": "3.11.6"
  }
 },
 "nbformat": 4,
 "nbformat_minor": 2
}
